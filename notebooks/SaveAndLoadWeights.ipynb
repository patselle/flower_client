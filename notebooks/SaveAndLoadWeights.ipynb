{
 "cells": [
  {
   "cell_type": "code",
   "execution_count": 1,
   "id": "retired-metro",
   "metadata": {},
   "outputs": [],
   "source": [
    "import sys\n",
    "import os\n",
    "import json\n",
    "import argparse\n",
    "\n",
    "import pickle\n",
    "import tensorflow as tf\n",
    "\n",
    "# Root directory of the project\n",
    "ROOT_DIR = os.path.abspath(\"../\")\n",
    "FLWR_DIR = os.path.join(ROOT_DIR, 'src')\n",
    "MASKRCNN_DIR = os.path.join(ROOT_DIR, 'maskrcnn')\n",
    "WEIGHTS_DIR = os.path.join(ROOT_DIR, 'weights')\n",
    "\n",
    "# Import Flower\n",
    "sys.path.append(FLWR_DIR)\n",
    "import flwr as fl\n",
    "from flwr.common.logger import log\n",
    "\n",
    "# Import Mask RCNN\n",
    "sys.path.append(MASKRCNN_DIR)  # To find local version of the library\n",
    "from mrcnn.config import Config\n",
    "from mrcnn import model as modellib, utils\n",
    "\n",
    "# Path to trained weights file\n",
    "COCO_WEIGHTS_PATH = os.path.join(ROOT_DIR, \"mask_rcnn_coco.h5\")\n",
    "WEIGHTS_SAVE_PATH= os.path.join(WEIGHTS_DIR, '00000.weights')\n",
    "\n",
    "# Directory to save logs and model checkpoints, if not provided\n",
    "# through the command line argument --logs\n",
    "DEFAULT_LOGS_DIR = os.path.join(ROOT_DIR, \"logs\")"
   ]
  },
  {
   "cell_type": "code",
   "execution_count": 23,
   "id": "drawn-acting",
   "metadata": {},
   "outputs": [],
   "source": [
    "class BalloonConfig(Config):\n",
    "    NAME = \"balloon\"\n",
    "    IMAGES_PER_GPU = 1\n",
    "    NUM_CLASSES = 1 + 1  # Background + balloon\n",
    "    # STEPS_PER_EPOCH = 100\n",
    "    STEPS_PER_EPOCH = 10\n",
    "    DETECTION_MIN_CONFIDENCE = 0.9"
   ]
  },
  {
   "cell_type": "code",
   "execution_count": 24,
   "id": "lonely-version",
   "metadata": {},
   "outputs": [],
   "source": [
    "# Configuration for training \n",
    "config = BalloonConfig()"
   ]
  },
  {
   "cell_type": "code",
   "execution_count": 25,
   "id": "portable-status",
   "metadata": {},
   "outputs": [
    {
     "data": {
      "text/plain": [
       "'training'"
      ]
     },
     "execution_count": 25,
     "metadata": {},
     "output_type": "execute_result"
    }
   ],
   "source": [
    "# Create model\n",
    "model = modellib.MaskRCNN(mode=\"training\", config=config, model_dir=DEFAULT_LOGS_DIR)\n",
    "model.mode"
   ]
  },
  {
   "cell_type": "code",
   "execution_count": 26,
   "id": "ready-cemetery",
   "metadata": {},
   "outputs": [],
   "source": [
    "exclude = [\n",
    "    \"mrcnn_class_logits\",\n",
    "    \"mrcnn_bbox_fc\",\n",
    "    \"mrcnn_bbox\",\n",
    "    \"mrcnn_mask\",\n",
    "    \"rpn_model\"  # because anchor's ratio has been changed\n",
    "]\n",
    "\n",
    "# load coco weights\n",
    "model.load_weights(\n",
    "    COCO_WEIGHTS_PATH,\n",
    "    by_name=True,\n",
    "    exclude=exclude\n",
    ")"
   ]
  },
  {
   "cell_type": "code",
   "execution_count": 8,
   "id": "committed-tower",
   "metadata": {},
   "outputs": [],
   "source": [
    "import h5py\n",
    "from tensorflow.python.keras.saving import hdf5_format"
   ]
  },
  {
   "cell_type": "code",
   "execution_count": 73,
   "id": "going-estimate",
   "metadata": {},
   "outputs": [],
   "source": [
    "exclude = [\n",
    "    \"mrcnn_class_logits\",\n",
    "    \"mrcnn_bbox_fc\",\n",
    "    \"mrcnn_bbox\",\n",
    "    \"mrcnn_mask\",\n",
    "    \"rpn_model\"  # because anchor's ratio has been changed\n",
    "]\n",
    "\n",
    "with h5py.File(COCO_WEIGHTS_PATH, mode='r') as f:\n",
    "    layers = model.keras_model.layers\n",
    "    \n",
    "    # Exclude some layers\n",
    "    layers = filter(lambda l: l.name not in exclude, layers)\n",
    "    \n",
    "    hdf5_format.load_weights_from_hdf5_group_by_name(f, layers)"
   ]
  },
  {
   "cell_type": "markdown",
   "id": "sealed-despite",
   "metadata": {},
   "source": [
    "# save them via pickel"
   ]
  },
  {
   "cell_type": "code",
   "execution_count": 75,
   "id": "purple-greenhouse",
   "metadata": {},
   "outputs": [
    {
     "data": {
      "text/plain": [
       "385"
      ]
     },
     "execution_count": 75,
     "metadata": {},
     "output_type": "execute_result"
    }
   ],
   "source": [
    "weights = model.keras_model.get_weights()\n",
    "len(weights)"
   ]
  },
  {
   "cell_type": "code",
   "execution_count": 77,
   "id": "regulated-berlin",
   "metadata": {},
   "outputs": [
    {
     "name": "stdout",
     "output_type": "stream",
     "text": [
      "save weights to /home/ps101/projekte/flower_client/autovikki/weights/00000.weights\n"
     ]
    }
   ],
   "source": [
    "try:\n",
    "    print(f'save weights to {WEIGHTS_SAVE_PATH}')\n",
    "    fs = open(WEIGHTS_SAVE_PATH, '+wb')\n",
    "    pickle.dump(weights, fs )\n",
    "    fs.close()\n",
    "except:\n",
    "    print(f'Error when trying to saving weights to {WEIGHTS_SAVE_PATH}')"
   ]
  },
  {
   "cell_type": "markdown",
   "id": "adaptive-league",
   "metadata": {},
   "source": [
    "# Try to load weights"
   ]
  },
  {
   "cell_type": "code",
   "execution_count": 80,
   "id": "isolated-gilbert",
   "metadata": {},
   "outputs": [
    {
     "data": {
      "text/plain": [
       "385"
      ]
     },
     "execution_count": 80,
     "metadata": {},
     "output_type": "execute_result"
    }
   ],
   "source": [
    "weights = []\n",
    "try:\n",
    "    fs = open(WEIGHTS_SAVE_PATH, 'rb')\n",
    "    weights = pickle.load(fs)\n",
    "    fs.close()\n",
    "except:\n",
    "    print('ERROR')\n",
    "\n",
    "len(weights)"
   ]
  },
  {
   "cell_type": "code",
   "execution_count": 81,
   "id": "municipal-analysis",
   "metadata": {},
   "outputs": [],
   "source": [
    "model.keras_model.set_weights(weights)"
   ]
  },
  {
   "cell_type": "markdown",
   "id": "willing-peeing",
   "metadata": {},
   "source": [
    "## Download balloon dataset"
   ]
  },
  {
   "cell_type": "code",
   "execution_count": 91,
   "id": "official-prime",
   "metadata": {},
   "outputs": [],
   "source": [
    "import requests\n",
    "\n",
    "URL = 'https://raw.githubusercontent.com/earnestt1234/seedir/master/setup.py'"
   ]
  },
  {
   "cell_type": "code",
   "execution_count": 92,
   "id": "round-valley",
   "metadata": {},
   "outputs": [],
   "source": [
    "r = requests.get(URL)"
   ]
  },
  {
   "cell_type": "code",
   "execution_count": 93,
   "id": "final-conservative",
   "metadata": {},
   "outputs": [
    {
     "data": {
      "text/plain": [
       "<Response [200]>"
      ]
     },
     "execution_count": 93,
     "metadata": {},
     "output_type": "execute_result"
    }
   ],
   "source": [
    "r\n"
   ]
  },
  {
   "cell_type": "code",
   "execution_count": 86,
   "id": "norman-gasoline",
   "metadata": {},
   "outputs": [],
   "source": [
    "r = requests.get('https://raw.github.com/kennethreitz/requests/master/README.rst')"
   ]
  },
  {
   "cell_type": "code",
   "execution_count": 87,
   "id": "understood-taste",
   "metadata": {},
   "outputs": [
    {
     "data": {
      "text/plain": [
       "<Response [404]>"
      ]
     },
     "execution_count": 87,
     "metadata": {},
     "output_type": "execute_result"
    }
   ],
   "source": [
    "r"
   ]
  },
  {
   "cell_type": "code",
   "execution_count": null,
   "id": "certified-insert",
   "metadata": {},
   "outputs": [],
   "source": []
  }
 ],
 "metadata": {
  "kernelspec": {
   "display_name": "Python 3",
   "language": "python",
   "name": "python3"
  },
  "language_info": {
   "codemirror_mode": {
    "name": "ipython",
    "version": 3
   },
   "file_extension": ".py",
   "mimetype": "text/x-python",
   "name": "python",
   "nbconvert_exporter": "python",
   "pygments_lexer": "ipython3",
   "version": "3.7.9"
  }
 },
 "nbformat": 4,
 "nbformat_minor": 5
}
